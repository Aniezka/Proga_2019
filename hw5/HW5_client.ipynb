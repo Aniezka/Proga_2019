{
 "cells": [
  {
   "cell_type": "code",
   "execution_count": 23,
   "metadata": {},
   "outputs": [],
   "source": [
    "import requests"
   ]
  },
  {
   "cell_type": "markdown",
   "metadata": {},
   "source": [
    "### Проверим доступность сервиса"
   ]
  },
  {
   "cell_type": "code",
   "execution_count": 24,
   "metadata": {},
   "outputs": [
    {
     "data": {
      "text/plain": [
       "b'{\"response\":{\"blah\":[\"stuff\"]}}\\n'"
      ]
     },
     "execution_count": 24,
     "metadata": {},
     "output_type": "execute_result"
    }
   ],
   "source": [
    "response = requests.get('http://127.0.0.1:5000/hello')\n",
    "response.content"
   ]
  },
  {
   "cell_type": "markdown",
   "metadata": {},
   "source": [
    "## Доступна ли ветка обучения"
   ]
  },
  {
   "cell_type": "code",
   "execution_count": 25,
   "metadata": {},
   "outputs": [
    {
     "data": {
      "text/plain": [
       "b'{\"response\":{\"status\":\"work\"}}\\n'"
      ]
     },
     "execution_count": 25,
     "metadata": {},
     "output_type": "execute_result"
    }
   ],
   "source": [
    "response = requests.get('http://127.0.0.1:5000/train')\n",
    "response.content"
   ]
  },
  {
   "cell_type": "markdown",
   "metadata": {},
   "source": [
    "## Отправим модель для обучения"
   ]
  },
  {
   "cell_type": "code",
   "execution_count": 26,
   "metadata": {},
   "outputs": [],
   "source": [
    "ret = requests.post('http://127.0.0.1:5000/train', data={\n",
    "    \"data\": \"a,c,b\\n1.0,1.0,2.0\\n4.0,4.0,2.0\\n8.0,7.0,2.0\\n11.0,12.0,2.0\",\n",
    "    \"target\": \"a\",  # предсказываемая переменная\n",
    "    \"n_folds\": \"2\",  # число кусков для k-fold\n",
    "    \"fit_intercept\": \"True\",  # включать в модель свободный член\n",
    "    \"l2_coef\": \"[0.01, 0.1, 1.0, 10.0, 100.0]\"\n",
    "    })"
   ]
  },
  {
   "cell_type": "markdown",
   "metadata": {},
   "source": [
    "#### посмотрим её id и найденные параметры параметры (БД проверяется на новые модели каждые 10 сек. поэтому необходимо подождать)"
   ]
  },
  {
   "cell_type": "code",
   "execution_count": 27,
   "metadata": {},
   "outputs": [
    {
     "data": {
      "text/plain": [
       "11"
      ]
     },
     "execution_count": 27,
     "metadata": {},
     "output_type": "execute_result"
    }
   ],
   "source": [
    "model_id = eval(ret.content)['response']['model_id']\n",
    "model_id"
   ]
  },
  {
   "cell_type": "code",
   "execution_count": 28,
   "metadata": {},
   "outputs": [
    {
     "data": {
      "text/plain": [
       "b'{\"response\":{\"cv_results\":{\"0.01\":{\"mean_mse\":4.604430607065071},\"0.1\":{\"mean_mse\":4.6569075802974025},\"1.0\":{\"mean_mse\":6.020406081012142},\"10.0\":{\"mean_mse\":23.303871052979257},\"100.0\":{\"mean_mse\":45.72691762754719}},\"model\":{\"coef\":{\"b\":0.0,\"c\":0.9241024087259506},\"intercept\":0.45538554764429584}}}\\n'"
      ]
     },
     "execution_count": 28,
     "metadata": {},
     "output_type": "execute_result"
    }
   ],
   "source": [
    "ret = requests.get(\n",
    "    'http://127.0.0.1:5000/model/{}'.format(model_id)\n",
    ")\n",
    "ret.content"
   ]
  },
  {
   "cell_type": "markdown",
   "metadata": {},
   "source": [
    "## Отправим запрос на предсказание данной модели"
   ]
  },
  {
   "cell_type": "code",
   "execution_count": 29,
   "metadata": {},
   "outputs": [
    {
     "data": {
      "text/plain": [
       "b'{\"response\":{\"result\":\"[2.30359037 9.69640963]\"}}\\n'"
      ]
     },
     "execution_count": 29,
     "metadata": {},
     "output_type": "execute_result"
    }
   ],
   "source": [
    "ret = requests.post(\n",
    "    'http://127.0.0.1:5000/model/{}/predict'.format(model_id),\n",
    "    data={\n",
    "        \"data\": \"c,b\\n2.0,2.0\\n10.0,2.0\",\n",
    "        \"model_id\": model_id\n",
    "    }\n",
    ")\n",
    "\n",
    "ret.content"
   ]
  },
  {
   "cell_type": "code",
   "execution_count": 30,
   "metadata": {},
   "outputs": [
    {
     "data": {
      "text/plain": [
       "200"
      ]
     },
     "execution_count": 30,
     "metadata": {},
     "output_type": "execute_result"
    }
   ],
   "source": [
    "ret.status_code"
   ]
  },
  {
   "cell_type": "markdown",
   "metadata": {},
   "source": [
    "# Обработка ошибок"
   ]
  },
  {
   "cell_type": "markdown",
   "metadata": {},
   "source": [
    "#### NaN в тренировочных данных"
   ]
  },
  {
   "cell_type": "code",
   "execution_count": 31,
   "metadata": {},
   "outputs": [
    {
     "data": {
      "text/plain": [
       "b'{\"response\":{\"error\":\"\\'data\\' contain NaN\"}}\\n'"
      ]
     },
     "execution_count": 31,
     "metadata": {},
     "output_type": "execute_result"
    }
   ],
   "source": [
    "ret = requests.post('http://127.0.0.1:5000/train', data={\n",
    "    \"data\": \"a,c,b\\n1.0,1.0,2.0\\n4.0,4.0,2.0\\n8.0,7.0,2.0\\n11.0,12.0\",\n",
    "    \"target\": \"a\",  # предсказываемая переменная\n",
    "    \"n_folds\": \"2\",  # число кусков для k-fold\n",
    "    \"fit_intercept\": \"True\",  # включать в модель свободный член\n",
    "    \"l2_coef\": \"[0.01, 0.1, 1.0, 10.0, 100.0]\"\n",
    "    })\n",
    "ret.content"
   ]
  },
  {
   "cell_type": "markdown",
   "metadata": {},
   "source": [
    "#### колонка которую надо предсказать не существует"
   ]
  },
  {
   "cell_type": "code",
   "execution_count": 32,
   "metadata": {},
   "outputs": [
    {
     "data": {
      "text/plain": [
       "b'{\"response\":{\"error\":\"\\'target\\' column noi in data\"}}\\n'"
      ]
     },
     "execution_count": 32,
     "metadata": {},
     "output_type": "execute_result"
    }
   ],
   "source": [
    "ret = requests.post('http://127.0.0.1:5000/train', data={\n",
    "    \"data\": \"a,c,b\\n1.0,1.0,2.0\\n4.0,4.0,2.0\\n8.0,7.0,2.0\\n11.0,12.0,2.0\",\n",
    "    \"target\": \"k\",  # предсказываемая переменная\n",
    "    \"n_folds\": \"2\",  # число кусков для k-fold\n",
    "    \"fit_intercept\": \"True\",  # включать в модель свободный член\n",
    "    \"l2_coef\": \"[0.01, 0.1, 1.0, 10.0, 100.0]\"\n",
    "    })\n",
    "ret.content"
   ]
  },
  {
   "cell_type": "markdown",
   "metadata": {},
   "source": [
    "#### вызываем модель, но она ещё не обучена"
   ]
  },
  {
   "cell_type": "code",
   "execution_count": 33,
   "metadata": {},
   "outputs": [
    {
     "data": {
      "text/plain": [
       "12"
      ]
     },
     "execution_count": 33,
     "metadata": {},
     "output_type": "execute_result"
    }
   ],
   "source": [
    "ret_id = requests.post('http://127.0.0.1:5000/train', data={\n",
    "    \"data\": \"a,c,b\\n1.0,1.0,2.0\\n4.0,4.0,2.0\\n8.0,7.0,2.0\\n11.0,12.0,2.0\",\n",
    "    \"target\": \"a\",  # предсказываемая переменная\n",
    "    \"n_folds\": \"2\",  # число кусков для k-fold\n",
    "    \"fit_intercept\": \"True\",  # включать в модель свободный член\n",
    "    \"l2_coef\": \"[0.01, 0.1, 1.0, 10.0, 100.0]\"\n",
    "    })\n",
    "eval(ret_id.content)['response']['model_id']"
   ]
  },
  {
   "cell_type": "code",
   "execution_count": 34,
   "metadata": {},
   "outputs": [
    {
     "data": {
      "text/plain": [
       "b'{\"response\":{\"error\":\"model in line for training\"}}\\n'"
      ]
     },
     "execution_count": 34,
     "metadata": {},
     "output_type": "execute_result"
    }
   ],
   "source": [
    "mod_id = eval(ret_id.content)['response']['model_id']\n",
    "\n",
    "ret = requests.post(\n",
    "    'http://127.0.0.1:5000/model/{}/predict'.format(mod_id),\n",
    "    data={\n",
    "        \"data\": \"c,b\\n2.0,2.0\\n10.0,2.0\",\n",
    "        \"model_id\": mod_id\n",
    "    }\n",
    ")\n",
    "ret.content"
   ]
  },
  {
   "cell_type": "markdown",
   "metadata": {},
   "source": [
    "#### модель не существует"
   ]
  },
  {
   "cell_type": "code",
   "execution_count": 35,
   "metadata": {},
   "outputs": [
    {
     "data": {
      "text/plain": [
       "b'{\"response\":{\"error\":\"Not valid model_id\"}}\\n'"
      ]
     },
     "execution_count": 35,
     "metadata": {},
     "output_type": "execute_result"
    }
   ],
   "source": [
    "ret = requests.get(\n",
    "    'http://127.0.0.1:5000/model/{}'.format(\"10000\"),\n",
    "    data={\n",
    "        \"data\": \"c,b\\n2.0,2.0\\n10.0,2.0\",\n",
    "        \"model_id\": 10000\n",
    "    }\n",
    ")\n",
    "ret.content"
   ]
  },
  {
   "cell_type": "markdown",
   "metadata": {},
   "source": [
    "#### столбцы данных для обучения и предсказания не совпадают"
   ]
  },
  {
   "cell_type": "code",
   "execution_count": 36,
   "metadata": {},
   "outputs": [
    {
     "data": {
      "text/plain": [
       "b'{\"response\":{\"error\":\"data for prediction is not valid for this model\"}}\\n'"
      ]
     },
     "execution_count": 36,
     "metadata": {},
     "output_type": "execute_result"
    }
   ],
   "source": [
    "ret = requests.post(\n",
    "    'http://127.0.0.1:5000/model/{}/predict'.format(4),\n",
    "    data={\n",
    "        \"data\": \"c,g\\n2.0,2.0\\n10.0,2.0\",\n",
    "        \"model_id\": 1\n",
    "    }\n",
    ")\n",
    "ret.content"
   ]
  },
  {
   "cell_type": "markdown",
   "metadata": {},
   "source": [
    "## Также есть и другие обработанные ошибки, которые связаны с валидацией данных, их доступности, корректности при чтении (read_csv) и т. п."
   ]
  },
  {
   "cell_type": "code",
   "execution_count": null,
   "metadata": {},
   "outputs": [],
   "source": []
  }
 ],
 "metadata": {
  "kernelspec": {
   "display_name": "Python 3",
   "language": "python",
   "name": "python3"
  },
  "language_info": {
   "codemirror_mode": {
    "name": "ipython",
    "version": 3
   },
   "file_extension": ".py",
   "mimetype": "text/x-python",
   "name": "python",
   "nbconvert_exporter": "python",
   "pygments_lexer": "ipython3",
   "version": "3.7.7"
  }
 },
 "nbformat": 4,
 "nbformat_minor": 2
}
